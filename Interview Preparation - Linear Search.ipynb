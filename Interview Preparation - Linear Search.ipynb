{
 "cells": [
  {
   "cell_type": "markdown",
   "metadata": {},
   "source": [
    "# Linear Search\n",
    "***\n",
    "\n",
    "### Problem: Given an array arr[] of n elements, write a function to search a given element x in arr[].\n",
    "\n",
    "### Examples :\n",
    "\n",
    "#### Input : arr[] = {10, 20, 80, 30, 60, 50, 110, 100, 130, 170}\n",
    "    x = 110;\n",
    "#### Output : 6\n",
    "    Element x is present at index 6\n",
    "\n",
    "#### Input : arr[] = {10, 20, 80, 30, 60, 50, 110, 100, 130, 170}\n",
    "    x = 175;\n",
    "#### Output : -1\n",
    "    Element x is not present in arr[].\n",
    "    \n",
    "    \n",
    "## A simple approach is to do linear search, i.e\n",
    "\n",
    "Start from the leftmost element of arr[] and one by one compare x with each element of arr[]\n",
    "* If x matches with an element, return the index.\n",
    "* If x doesn’t match with any of elements, return -1."
   ]
  },
  {
   "cell_type": "code",
   "execution_count": 27,
   "metadata": {},
   "outputs": [
    {
     "name": "stdout",
     "output_type": "stream",
     "text": [
      "Enter the number to be searched : 4\n",
      "The number  4  is present at index  3\n"
     ]
    }
   ],
   "source": [
    "# Python code for linearly search num in arr[].  If num\n",
    "# is present then return its  location,  otherwise  \n",
    "# return -1 \n",
    "def linearSearch(num,arr):\n",
    "    for items in range(len(arr)):\n",
    "        if arr[items] == num:\n",
    "            return items\n",
    "        \n",
    "    return -1\n",
    "   \n",
    "    \n",
    "arr = [1,2,3,4,5,6,7,8,9,10]\n",
    "num = int(input(\"Enter the number to be searched : \"))\n",
    "result = linearSearch(num,arr)\n",
    "if result == -1:\n",
    "    print(\"Number not in list !!!\")\n",
    "else:\n",
    "    print(\"The number \",num,\" is present at index \",result)"
   ]
  },
  {
   "cell_type": "code",
   "execution_count": null,
   "metadata": {},
   "outputs": [],
   "source": []
  }
 ],
 "metadata": {
  "kernelspec": {
   "display_name": "py_37_env",
   "language": "python",
   "name": "py_37_env"
  },
  "language_info": {
   "codemirror_mode": {
    "name": "ipython",
    "version": 3
   },
   "file_extension": ".py",
   "mimetype": "text/x-python",
   "name": "python",
   "nbconvert_exporter": "python",
   "pygments_lexer": "ipython3",
   "version": "3.7.0"
  }
 },
 "nbformat": 4,
 "nbformat_minor": 2
}
