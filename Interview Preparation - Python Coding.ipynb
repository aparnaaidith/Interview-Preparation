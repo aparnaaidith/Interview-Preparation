{
 "cells": [
  {
   "cell_type": "markdown",
   "metadata": {},
   "source": [
    "#  Question 1 : To check the string is palindrome or not\n"
   ]
  },
  {
   "cell_type": "code",
   "execution_count": null,
   "metadata": {},
   "outputs": [],
   "source": [
    "\n",
    "def isPalindrome(string):\n",
    "    left_pos = 0\n",
    "    right_pos = len(string)-1\n",
    "    while (right_pos >= left_pos):\n",
    "        if( string[left_pos] != string[right_pos]):\n",
    "            return False\n",
    "            left_pos = left_pos + 1\n",
    "            right_pos = right_pos -1\n",
    "        else :\n",
    "            return True\n",
    "\n",
    "print(isPalindrome('azap'))\n",
    "            "
   ]
  },
  {
   "cell_type": "markdown",
   "metadata": {},
   "source": [
    "# Question 2 : Write a Python program to calculate the sum of a list of numbers.\n"
   ]
  },
  {
   "cell_type": "code",
   "execution_count": null,
   "metadata": {},
   "outputs": [],
   "source": [
    "\n",
    "a =[ 2, 4, 5, 6, 7]\n",
    "sum =0\n",
    "\n",
    "for i in range(len(a)):\n",
    "    sum = sum + a[i]\n",
    "    \n",
    "print(\"The sum is \",sum)\n",
    "    "
   ]
  },
  {
   "cell_type": "markdown",
   "metadata": {},
   "source": [
    "# Question 3 : Write a Python program to read a random line from a file."
   ]
  },
  {
   "cell_type": "code",
   "execution_count": null,
   "metadata": {},
   "outputs": [],
   "source": [
    "import random\n",
    "\n",
    "a =\" This is awesome. I love it. Thank you god for this opportunity given\"\n",
    "lines = a.split('.')\n",
    "new_lines = random.choice(lines)\n",
    "new_lines\n",
    "\n",
    "\n",
    "# import random\n",
    "# def random_line(fname):\n",
    "# lines = open(fname).read().splitlines()\n",
    "# return random.choice(lines)\n",
    "# print(random_line(‘test.txt’))\n"
   ]
  },
  {
   "cell_type": "markdown",
   "metadata": {},
   "source": [
    "# Question 4 : Python Program that Displays which Letters are in the First String but not in the Second\n"
   ]
  },
  {
   "cell_type": "code",
   "execution_count": null,
   "metadata": {},
   "outputs": [],
   "source": [
    "\n",
    "a = input(\"Please enter the string 1: \")\n",
    "b = input(\"Please enter string 2: \")\n",
    "\n",
    "# print(set(a))\n",
    "# print(set(b))\n",
    "\n",
    "new_list = list(set(a)-set(b))\n",
    "print(new_list)\n"
   ]
  },
  {
   "cell_type": "markdown",
   "metadata": {},
   "source": [
    "# Question 5 : Python Program to Find the Sum of Elements in a List Recursively"
   ]
  },
  {
   "cell_type": "code",
   "execution_count": null,
   "metadata": {},
   "outputs": [],
   "source": [
    "\n",
    "def sum_arr(array,size1):\n",
    "    if(size1 == 0):\n",
    "        return 0\n",
    "    else:\n",
    "        return array[size1-1] + sum_arr[array,size1-1]\n",
    "    \n",
    "arr = [1,2,3,4,5,6]\n",
    "n =len(arr)\n",
    "result = sum_arr(arr,n)\n",
    "print(result)"
   ]
  },
  {
   "cell_type": "markdown",
   "metadata": {},
   "source": [
    "# Question 6 : Python Program to Find the LCM of Two Numbers Using Recursion"
   ]
  },
  {
   "cell_type": "code",
   "execution_count": null,
   "metadata": {},
   "outputs": [],
   "source": [
    "\n",
    "def lcm(a,b):\n",
    "    lcm.multiple=lcm.multiple+b\n",
    "    if((lcm.multiple % a == 0) and (lcm.multiple % b == 0)):\n",
    "        return lcm.multiple;\n",
    "    else:\n",
    "        lcm(a, b)\n",
    "    return lcm.multiple\n",
    "\n",
    "lcm.multiple=0\n",
    "a=int(input(\"Enter first number:\"))\n",
    "b=int(input(\"Enter second number:\"))\n",
    "if(a>b):\n",
    "    LCM=lcm(b,a)\n",
    "else:\n",
    "    LCM=lcm(a,b)\n",
    "print(LCM)"
   ]
  },
  {
   "cell_type": "markdown",
   "metadata": {},
   "source": [
    "# Question 7 : Write a function that takes a number and returns a list of its digits"
   ]
  },
  {
   "cell_type": "code",
   "execution_count": null,
   "metadata": {},
   "outputs": [],
   "source": [
    "\n",
    "\n",
    "def solution(input):\n",
    "    \n",
    "    item = str(input)\n",
    "    new_item = []\n",
    "    for i in range(len(item)):\n",
    "        new_item.append(int(item[i]))     \n",
    "    return new_item\n",
    "\n",
    "# assert solution(123) == [1,2,3]\n",
    "# assert solution(400) == [4,0,0]\n",
    "\n",
    "a = solution(123)\n",
    "print(a)"
   ]
  },
  {
   "cell_type": "markdown",
   "metadata": {},
   "source": [
    "# Question 8 : Write a function that returns the cumulative sum of elements in a list"
   ]
  },
  {
   "cell_type": "code",
   "execution_count": null,
   "metadata": {},
   "outputs": [],
   "source": [
    "\n",
    "\n",
    "def solution(input):\n",
    "    \n",
    "    sum = 0\n",
    "    new_list = []\n",
    "    for i in range(len(input)):\n",
    "        sum =sum + input[i]\n",
    "        new_list.append(sum)\n",
    "        \n",
    "    \n",
    "    return new_list\n",
    "# assert solution([1,1,1]) == [1,2,3]\n",
    "# assert solution([1,-1,3]) == [1,0,3]\n",
    "\n",
    "a = solution([1,-1,3])\n",
    "print(a)"
   ]
  },
  {
   "cell_type": "markdown",
   "metadata": {},
   "source": [
    "# Question 9 : Write a function that returns the elements on odd positions (0 based) in a list"
   ]
  },
  {
   "cell_type": "code",
   "execution_count": null,
   "metadata": {},
   "outputs": [],
   "source": [
    "\n",
    "\n",
    "def solution(input):\n",
    "    \n",
    "    odd_index_number = []\n",
    "    \n",
    "    for i in range(len(input)):\n",
    "        if ( i%2 != 0):\n",
    "            odd_index_number.append(input[i])\n",
    "    \n",
    "    return odd_index_number\n",
    "# assert solution([0,1,2,3,4,5]) == [1,3,5]\n",
    "# assert solution([1,-1,2,-2]) == [-1,-2]\n",
    "\n",
    "a = solution([1,-1,2,-2])\n",
    "print(a)"
   ]
  },
  {
   "cell_type": "markdown",
   "metadata": {},
   "source": [
    "# Question 10 : Centered-average"
   ]
  },
  {
   "cell_type": "code",
   "execution_count": null,
   "metadata": {},
   "outputs": [],
   "source": [
    "\n",
    "import math\n",
    "\n",
    "nums =[-10, -4, -2, -4, -2, 0]\n",
    "n =len(nums)\n",
    "n_2 = n/2\n",
    "print(n)\n",
    "\n",
    "print((math.ceil(n_2)-1))\n",
    "\n",
    "    \n",
    "if (n % 2 != 0):\n",
    "    for x in range(n):\n",
    "        if ( x == (math.ceil(n_2)-1)):\n",
    "            avg =  nums[x]\n",
    "        else:\n",
    "            continue\n",
    "    print(\"Odd avg is \",avg) \n",
    "\n",
    "if( n % 2 == 0 ):\n",
    "    for x in range(n):\n",
    "        if( x == (math.ceil(n_2)-1)):\n",
    "            avg = (nums[x] + nums[x+1])/2\n",
    "        else:\n",
    "            continue\n",
    "    print(\"Even avg is\", avg)\n",
    "        \n",
    "# a = centered_average([1, 2, 3, 4, 100])\n",
    "# print(a)\n"
   ]
  },
  {
   "cell_type": "markdown",
   "metadata": {},
   "source": []
  },
  {
   "cell_type": "code",
   "execution_count": null,
   "metadata": {},
   "outputs": [],
   "source": [
    "# to join words\n",
    "\n",
    "words = [\"this\", \"is\", \"a\", \"list\", \"of\", \"strings\"]\n",
    "'-'.join(words)"
   ]
  },
  {
   "cell_type": "markdown",
   "metadata": {},
   "source": [
    "# Question 11 : Python Program to Reverse a String without using Recursion"
   ]
  },
  {
   "cell_type": "code",
   "execution_count": null,
   "metadata": {},
   "outputs": [],
   "source": [
    "\n",
    "string = \"aparna\"\n",
    "print(string[::-1])\n"
   ]
  },
  {
   "cell_type": "markdown",
   "metadata": {},
   "source": [
    "# Question 12 : Python Program to find the factorial of a number without recursion"
   ]
  },
  {
   "cell_type": "code",
   "execution_count": null,
   "metadata": {},
   "outputs": [],
   "source": [
    "\n",
    "num = int(input(\"Please enter the number :\"))\n",
    "fact =1\n",
    "\n",
    "while(num >0):\n",
    "    if (num == 0):\n",
    "        fact = 1\n",
    "    else :\n",
    "        fact = fact * num\n",
    "        num = num - 1\n",
    "print(\"The factiorial is \",fact)\n",
    "\n"
   ]
  },
  {
   "cell_type": "markdown",
   "metadata": {},
   "source": [
    "# Question 13 : Python Program to Find All Numbers which are Odd and Palindromes Between a Range of Numbers without using Recursion"
   ]
  },
  {
   "cell_type": "code",
   "execution_count": null,
   "metadata": {},
   "outputs": [],
   "source": [
    "num_list = []\n",
    "low_limit = int(input(\"Enter the lower limit : \"))\n",
    "high_limit = int(input(\"Enter the high limit : \"))\n",
    "for item in range(low_limit,high_limit):\n",
    "    \n",
    "    if( item % 2 != 0) and (str(item) == str(item)[::-1]):\n",
    "        num_list.append(item)\n",
    "    else :\n",
    "        continue\n",
    "        \n",
    "print(num_list)"
   ]
  },
  {
   "cell_type": "markdown",
   "metadata": {},
   "source": [
    "# Question 14 : Python Program to Read a String from the User and Append it into a File"
   ]
  },
  {
   "cell_type": "code",
   "execution_count": null,
   "metadata": {},
   "outputs": [],
   "source": [
    "new_string = input(\"Enter the string to append : \")\n",
    "my_file = open(File3.txt,'a')\n",
    "my_file.write(c)\n",
    "my_file.close()\n",
    "\n",
    "new_file = open(File3.txt,'r')\n",
    "line = new_file.readLine()\n",
    "while(line != ''):\n",
    "    print(line)\n",
    "    line = new_file.readLine()\n",
    "new_file.close()\n"
   ]
  },
  {
   "cell_type": "markdown",
   "metadata": {},
   "source": [
    "# Question 15 : Python Program to Count the Occurrences of a Word in a Text File\n"
   ]
  },
  {
   "cell_type": "code",
   "execution_count": null,
   "metadata": {},
   "outputs": [],
   "source": [
    "fname = input(\"Enter the file name : \")\n",
    "word = input(\"Enter the word : \")\n",
    "\n",
    "count = 0\n",
    "\n",
    "with open(fname,\"r\") as f:\n",
    "    for line in f :\n",
    "        words = line.split()\n",
    "        for item in words :\n",
    "            if( item == word):\n",
    "                count = count +1 \n",
    "print(\"The no :of occurence is \",count)"
   ]
  },
  {
   "cell_type": "markdown",
   "metadata": {},
   "source": [
    "# Question 16 : Python Program to Copy the Contents of One File into Another"
   ]
  },
  {
   "cell_type": "code",
   "execution_count": null,
   "metadata": {},
   "outputs": [],
   "source": [
    "my_file = input(\"Please enter the base file name : \")\n",
    "with open(my_file) as f:\n",
    "    with open(new_file,\"w\") as f2:\n",
    "        for line in f:\n",
    "            f2.write(line)"
   ]
  },
  {
   "cell_type": "markdown",
   "metadata": {},
   "source": [
    "# Dictionary Basics"
   ]
  },
  {
   "cell_type": "code",
   "execution_count": null,
   "metadata": {},
   "outputs": [],
   "source": [
    "# DICTIONARY\n",
    "\n",
    "# Create a new dictionary \n",
    "# d = dict()\n",
    "\n",
    "# Add a key - value pairs to dictionary\n",
    "d[1] = \"aparna\"\n",
    "d[2] = \"nethra\"\n",
    "d[3] = \"anas\"\n",
    "\n",
    "# print the whole dictionary \n",
    "print(d) \n",
    "\n",
    "# print only the keys \n",
    "print(d.keys()) \n",
    "\n",
    "#print only the values\n",
    "print(d.values())\n",
    "\n",
    "\n",
    "for i in d :\n",
    "    print(i,d[i])\n",
    "    \n",
    "dict = {'Name': 'Zara', 'Age': 7}\n",
    "print(dict.items())"
   ]
  },
  {
   "cell_type": "code",
   "execution_count": null,
   "metadata": {},
   "outputs": [],
   "source": []
  }
 ],
 "metadata": {
  "kernelspec": {
   "display_name": "py_37_env",
   "language": "python",
   "name": "py_37_env"
  },
  "language_info": {
   "codemirror_mode": {
    "name": "ipython",
    "version": 3
   },
   "file_extension": ".py",
   "mimetype": "text/x-python",
   "name": "python",
   "nbconvert_exporter": "python",
   "pygments_lexer": "ipython3",
   "version": "3.7.0"
  }
 },
 "nbformat": 4,
 "nbformat_minor": 2
}
